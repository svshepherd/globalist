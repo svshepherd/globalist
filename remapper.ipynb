{
 "cells": [
  {
   "cell_type": "markdown",
   "id": "97244514-47a7-4a4b-a4a5-00ac0a7b245b",
   "metadata": {
    "ExecuteTime": {
     "end_time": "2022-05-08T01:45:20.394854Z",
     "start_time": "2022-05-08T01:45:20.371840Z"
    }
   },
   "source": [
    "# overview\n",
    "\n",
    "goal: \n",
    "1. enter lat, long tuple\n",
    "1. get 3space directions relative surface-north, surface-east, up/down. \n",
    "\n",
    "TODO: \n",
    "* try to engineer with ChatGPT for comparison\n",
    "* share with dad"
   ]
  },
  {
   "cell_type": "code",
   "execution_count": null,
   "id": "bcc68d2f-58fb-45c4-aa2f-3e2d62a9f0cc",
   "metadata": {},
   "outputs": [],
   "source": [
    "## environment notes:\n",
    "## conda create -n base2023geonat   python numpy pandas scipy matplotlib jupyterlab nodejs plotly; conda install -c conda-forge pyinaturalist;"
   ]
  },
  {
   "cell_type": "code",
   "execution_count": 1,
   "id": "1ae9634f",
   "metadata": {
    "ExecuteTime": {
     "end_time": "2022-05-08T18:48:31.077435Z",
     "start_time": "2022-05-08T18:48:30.811439Z"
    },
    "tags": []
   },
   "outputs": [],
   "source": [
    "import sys\n",
    "sys.path.insert(0,r\"F:\\extended_desktop\\code\")\n",
    "\n",
    "import globalist.remapper as remapper\n",
    "\n",
    "%load_ext autoreload\n",
    "%autoreload 2"
   ]
  },
  {
   "cell_type": "code",
   "execution_count": 2,
   "id": "2d466399",
   "metadata": {
    "ExecuteTime": {
     "end_time": "2022-05-08T18:48:31.093451Z",
     "start_time": "2022-05-08T18:48:31.080435Z"
    }
   },
   "outputs": [],
   "source": [
    "prospero = (37.667, -77.810)\n",
    "shepherds = (37.146, -121.593)\n",
    "kyiv = (50.45, 30.523333)\n",
    "nyc = (40.712778, -74.006111)\n",
    "chicago = (41.881944, -87.627778)"
   ]
  },
  {
   "cell_type": "markdown",
   "id": "9a7c15c4",
   "metadata": {},
   "source": [
    "debugging thoughts:\n",
    "* plot just latitudinal lines!\n",
    "* add original lat/long mouseover labels in px\n",
    "\n",
    "take two (with dad):\n",
    "* we want to take (theta, phi, r)==(lat, long, 1) to direction := (northward, eastward, dip)\n",
    "\n",
    "take three:\n",
    "* direction is dest - home\n",
    "* but that's relative to origin, which matches the tangent plane of \"equatorial greenwhich\" at (0,0)\n",
    "* the rotation axis from eq. greenwhich to home corresponds to the cross product of those vectors\n",
    "* the amount of rotation corresponds to the dot product of those vectors\n",
    "\n",
    "take four: \n",
    "* the rotation approach is unnecessarily confusing. instead, define a new set of basis vectors. that's easy bc we know e/n are in the tanget plane and down is toward the center of the earth.  \n",
    "* then translate to it using cross products. that's also easy!"
   ]
  },
  {
   "cell_type": "code",
   "execution_count": 3,
   "id": "362b78c3",
   "metadata": {
    "ExecuteTime": {
     "end_time": "2022-05-08T18:48:33.566402Z",
     "start_time": "2022-05-08T18:48:33.556403Z"
    }
   },
   "outputs": [
    {
     "data": {
      "text/plain": [
       "array([ 0.16714452, -0.77372777,  0.61107123])"
      ]
     },
     "execution_count": 3,
     "metadata": {},
     "output_type": "execute_result"
    }
   ],
   "source": [
    "remapper.deg_to_3space(prospero)"
   ]
  },
  {
   "cell_type": "code",
   "execution_count": 4,
   "id": "d7d07067",
   "metadata": {
    "ExecuteTime": {
     "end_time": "2022-05-08T18:48:37.625657Z",
     "start_time": "2022-05-08T18:48:37.603820Z"
    }
   },
   "outputs": [
    {
     "name": "stdout",
     "output_type": "stream",
     "text": [
      "prospero=(37.667, -77.81)\n",
      "remapper.deg_to_3space(prospero)=array([ 0.16714452, -0.77372777,  0.61107123])\n",
      "(array([-0.16714452,  0.77372777, -0.61107123]), array([0.18654117, 0.58190243, 0.79157562]), array([ 0.96804787,  0.01831758, -0.24159389]))\n"
     ]
    },
    {
     "data": {
      "text/plain": [
       "[0.9999999999999999, 0.9999999999999999, 0.9979077188158015]"
      ]
     },
     "execution_count": 4,
     "metadata": {},
     "output_type": "execute_result"
    }
   ],
   "source": [
    "print(f\"{prospero=}\")\n",
    "print(f\"{remapper.deg_to_3space(prospero)=}\")\n",
    "print(f\"{remapper.lat_long_to_tangent_space_basis_vectors(*prospero)}\")\n",
    "\n",
    "[remapper.magnitude(a) for a in remapper.lat_long_to_tangent_space_basis_vectors(*prospero)]"
   ]
  },
  {
   "cell_type": "code",
   "execution_count": 5,
   "id": "dc4cd636",
   "metadata": {
    "ExecuteTime": {
     "end_time": "2022-05-08T18:49:05.808685Z",
     "start_time": "2022-05-08T18:49:05.788685Z"
    }
   },
   "outputs": [
    {
     "name": "stdout",
     "output_type": "stream",
     "text": [
      "shepherds=(37.146, -121.593)\n",
      "prospero=(37.667, -77.81)\n",
      "\n",
      "\n",
      "src3sp=array([ 0.16714452, -0.77372777,  0.61107123])\n",
      "dst3sp=array([-0.4175859 , -0.67896204,  0.60384813])\n",
      "pointer=array([-0.58473041,  0.09476573, -0.00722309])\n",
      "downward=array([-0.16714452,  0.77372777, -0.61107123])\n",
      "northward=array([0.18654117, 0.58190243, 0.79157562])\n",
      "eastward=array([ 0.96804787,  0.01831758, -0.24159389])\n",
      "nComp=-0.05964951004188121\n",
      "eComp=-0.5625660963314864\n",
      "dComp=0.17547118686918023\n",
      "compass=4.606752562111822\n",
      "dip=0.3007136916824924\n"
     ]
    },
    {
     "data": {
      "text/plain": [
       "(263.94747907008605, 17.229625375205103)"
      ]
     },
     "execution_count": 5,
     "metadata": {},
     "output_type": "execute_result"
    }
   ],
   "source": [
    "print(f\"{shepherds=}\")\n",
    "print(f\"{prospero=}\")\n",
    "print('\\n')\n",
    "remapper.remapper(prospero, shepherds, verbose=True)"
   ]
  },
  {
   "cell_type": "code",
   "execution_count": 6,
   "id": "58d97d4d",
   "metadata": {
    "ExecuteTime": {
     "end_time": "2022-05-08T18:52:17.901255Z",
     "start_time": "2022-05-08T18:52:17.875256Z"
    }
   },
   "outputs": [
    {
     "name": "stdout",
     "output_type": "stream",
     "text": [
      "prospero=(37.667, -77.81)\n",
      "trg=(-37.667, 102.19)\n",
      "\n",
      "\n",
      "src3sp=array([ 0.16714452, -0.77372777,  0.61107123])\n",
      "dst3sp=array([-0.16714452,  0.77372777, -0.61107123])\n",
      "pointer=array([-0.33428904,  1.54745555, -1.22214245])\n",
      "downward=array([-0.16714452,  0.77372777, -0.61107123])\n",
      "northward=array([0.18654117, 0.58190243, 0.79157562])\n",
      "eastward=array([ 0.96804787,  0.01831758, -0.24159389])\n",
      "nComp=-0.12930869619392116\n",
      "eComp=1.3530843112619095e-16\n",
      "dComp=1.9999999999999996\n",
      "compass=3.1415926535897922\n",
      "dip=1.5707963118937354\n"
     ]
    },
    {
     "data": {
      "text/plain": [
       "(179.99999999999994, 89.99999914622636)"
      ]
     },
     "execution_count": 6,
     "metadata": {},
     "output_type": "execute_result"
    }
   ],
   "source": [
    "trg = (-prospero[0], prospero[1]+180)\n",
    "print(f\"{prospero=}\")\n",
    "print(f\"{trg=}\")\n",
    "print('\\n')\n",
    "\n",
    "remapper.remapper(prospero, trg, verbose=True)"
   ]
  },
  {
   "cell_type": "code",
   "execution_count": 7,
   "id": "2a0f82fc",
   "metadata": {
    "ExecuteTime": {
     "end_time": "2022-05-08T18:53:09.304708Z",
     "start_time": "2022-05-08T18:53:09.284701Z"
    }
   },
   "outputs": [
    {
     "name": "stdout",
     "output_type": "stream",
     "text": [
      "prospero=(37.667, -77.81)\n",
      "trg=(0, 12.189999999999998)\n",
      "src3sp=array([ 0.16714452, -0.77372777,  0.61107123])\n",
      "dst3sp=array([0.97745276, 0.2111542 , 0.        ])\n",
      "pointer=array([ 0.81030825,  0.98488197, -0.61107123])\n",
      "downward=array([-0.16714452,  0.77372777, -0.61107123])\n",
      "northward=array([0.18654117, 0.58190243, 0.79157562])\n",
      "eastward=array([ 0.96804787,  0.01831758, -0.24159389])\n",
      "nComp=0.24055197942059736\n",
      "eComp=0.9500888973750835\n",
      "dComp=1.0\n",
      "compass=1.3228185888894224\n",
      "dip=0.7853981633974482\n"
     ]
    },
    {
     "data": {
      "text/plain": [
       "(75.79192220481504, 44.99999999999999)"
      ]
     },
     "execution_count": 7,
     "metadata": {},
     "output_type": "execute_result"
    }
   ],
   "source": [
    "trg = (0, prospero[1]+90)\n",
    "print(f\"{prospero=}\")\n",
    "print(f\"{trg=}\")\n",
    "\n",
    "remapper.remapper(prospero, trg, verbose=True)"
   ]
  },
  {
   "cell_type": "code",
   "execution_count": 8,
   "id": "5208e0a7",
   "metadata": {
    "ExecuteTime": {
     "end_time": "2022-05-08T18:53:46.489066Z",
     "start_time": "2022-05-08T18:53:46.469067Z"
    }
   },
   "outputs": [
    {
     "name": "stdout",
     "output_type": "stream",
     "text": [
      "prospero=(37.667, -77.81)\n",
      "trg=(0, -167.81)\n",
      "\n",
      "\n",
      "src3sp=array([ 0.16714452, -0.77372777,  0.61107123])\n",
      "dst3sp=array([-0.97745276, -0.2111542 ,  0.        ])\n",
      "pointer=array([-1.14459728,  0.56257357, -0.61107123])\n",
      "downward=array([-0.16714452,  0.77372777, -0.61107123])\n",
      "northward=array([0.18654117, 0.58190243, 0.79157562])\n",
      "eastward=array([ 0.96804787,  0.01831758, -0.24159389])\n",
      "nComp=-0.3698606756145186\n",
      "eComp=-0.9500888973750835\n",
      "dComp=0.9999999999999998\n",
      "compass=4.341148800706544\n",
      "dip=0.7853981633974482\n"
     ]
    },
    {
     "data": {
      "text/plain": [
       "(248.72950451876392, 44.99999999999999)"
      ]
     },
     "execution_count": 8,
     "metadata": {},
     "output_type": "execute_result"
    }
   ],
   "source": [
    "trg = (0, prospero[1]-90)\n",
    "print(f\"{prospero=}\")\n",
    "print(f\"{trg=}\")\n",
    "print('\\n')\n",
    "\n",
    "remapper.remapper(prospero, trg, verbose=True)"
   ]
  },
  {
   "cell_type": "code",
   "execution_count": 9,
   "id": "196e6747",
   "metadata": {
    "ExecuteTime": {
     "end_time": "2022-05-08T18:49:09.047426Z",
     "start_time": "2022-05-08T18:49:09.027700Z"
    }
   },
   "outputs": [
    {
     "name": "stdout",
     "output_type": "stream",
     "text": [
      "prospero=(37.667, -77.81)\n",
      "trg=(50.45, 30.523333)\n",
      "\n",
      "\n",
      "src3sp=array([ 0.16714452, -0.77372777,  0.61107123])\n",
      "dst3sp=array([0.54851187, 0.32339914, 0.77106921])\n",
      "pointer=array([0.38136736, 1.09712691, 0.15999798])\n",
      "downward=array([-0.16714452,  0.77372777, -0.61107123])\n",
      "northward=array([0.18654117, 0.58190243, 0.79157562])\n",
      "eastward=array([ 0.96804787,  0.01831758, -0.24159389])\n",
      "nComp=0.8362120259563333\n",
      "eComp=0.3506240338277083\n",
      "dComp=0.6873639361522044\n",
      "compass=0.397033144140835\n",
      "dip=0.6264146909943615\n"
     ]
    },
    {
     "data": {
      "text/plain": [
       "(22.748323486079116, 35.890918018968534)"
      ]
     },
     "execution_count": 9,
     "metadata": {},
     "output_type": "execute_result"
    }
   ],
   "source": [
    "trg = kyiv\n",
    "print(f\"{prospero=}\")\n",
    "print(f\"{trg=}\")\n",
    "print('\\n')\n",
    "\n",
    "remapper.remapper(prospero, trg, verbose=True)"
   ]
  },
  {
   "cell_type": "code",
   "execution_count": 10,
   "id": "252889c6",
   "metadata": {
    "ExecuteTime": {
     "end_time": "2022-05-08T18:49:35.391497Z",
     "start_time": "2022-05-08T18:49:35.371421Z"
    }
   },
   "outputs": [
    {
     "name": "stdout",
     "output_type": "stream",
     "text": [
      "prospero=(37.667, -77.81)\n",
      "trg=(40.712778, -74.006111)\n",
      "\n",
      "\n",
      "src3sp=array([ 0.16714452, -0.77372777,  0.61107123])\n",
      "dst3sp=array([ 0.20885234, -0.72864796,  0.65226747])\n",
      "pointer=array([0.04170782, 0.04507981, 0.04119624])\n",
      "downward=array([-0.16714452,  0.77372777, -0.61107123])\n",
      "northward=array([0.18654117, 0.58190243, 0.79157562])\n",
      "eastward=array([ 0.96804787,  0.01831758, -0.24159389])\n",
      "nComp=0.06662221426988477\n",
      "eComp=0.031248160799439186\n",
      "dComp=0.002734430806143995\n",
      "compass=0.4385703227379618\n",
      "dip=0.03698430681346071\n"
     ]
    },
    {
     "data": {
      "text/plain": [
       "(25.128228512575614, 2.1190446886282333)"
      ]
     },
     "execution_count": 10,
     "metadata": {},
     "output_type": "execute_result"
    }
   ],
   "source": [
    "trg = nyc\n",
    "print(f\"{prospero=}\")\n",
    "print(f\"{trg=}\")\n",
    "print('\\n')\n",
    "\n",
    "remapper.remapper(prospero, trg, verbose=True)"
   ]
  },
  {
   "cell_type": "code",
   "execution_count": 11,
   "id": "892e3a1b",
   "metadata": {
    "ExecuteTime": {
     "end_time": "2022-05-08T18:49:33.701696Z",
     "start_time": "2022-05-08T18:49:33.675716Z"
    }
   },
   "outputs": [
    {
     "name": "stdout",
     "output_type": "stream",
     "text": [
      "prospero=(37.667, -77.81)\n",
      "\n",
      "\n",
      "src3sp=array([ 0.16714452, -0.77372777,  0.61107123])\n",
      "dst3sp=array([ 0.0308167 , -0.74388392,  0.66759796])\n",
      "pointer=array([-0.13632782,  0.02984385,  0.05652674])\n",
      "downward=array([-0.16714452,  0.77372777, -0.61107123])\n",
      "northward=array([0.18654117, 0.58190243, 0.79157562])\n",
      "eastward=array([ 0.96804787,  0.01831758, -0.24159389])\n",
      "nComp=0.03668064291049519\n",
      "eComp=-0.14508170002275814\n",
      "dComp=0.011335600538389678\n",
      "compass=-1.3231582666550201\n",
      "dip=0.07535609293632972\n"
     ]
    },
    {
     "data": {
      "text/plain": [
       "(-75.81138430717822, 4.317586085847288)"
      ]
     },
     "execution_count": 11,
     "metadata": {},
     "output_type": "execute_result"
    }
   ],
   "source": [
    "trg = chicago\n",
    "print(f\"{prospero=}\")\n",
    "print('\\n')\n",
    "\n",
    "remapper.remapper(prospero, trg, verbose=True)"
   ]
  },
  {
   "cell_type": "markdown",
   "id": "daf6cc0c",
   "metadata": {
    "heading_collapsed": true,
    "jp-MarkdownHeadingCollapsed": true,
    "tags": []
   },
   "source": [
    "## old attempts"
   ]
  },
  {
   "cell_type": "code",
   "execution_count": 91,
   "id": "85effb12",
   "metadata": {
    "ExecuteTime": {
     "end_time": "2022-05-08T16:48:10.885304Z",
     "start_time": "2022-05-08T16:48:10.622247Z"
    },
    "hidden": true
   },
   "outputs": [
    {
     "ename": "AttributeError",
     "evalue": "module 'plotly.express' has no attribute 'plot3'",
     "output_type": "error",
     "traceback": [
      "\u001b[1;31m---------------------------------------------------------------------------\u001b[0m",
      "\u001b[1;31mAttributeError\u001b[0m                            Traceback (most recent call last)",
      "Input \u001b[1;32mIn [91]\u001b[0m, in \u001b[0;36m<cell line: 15>\u001b[1;34m()\u001b[0m\n\u001b[0;32m      9\u001b[0m spots\u001b[38;5;241m.\u001b[39mrename(columns\u001b[38;5;241m=\u001b[39m{\u001b[38;5;241m0\u001b[39m:\u001b[38;5;124m'\u001b[39m\u001b[38;5;124mx\u001b[39m\u001b[38;5;124m'\u001b[39m,\u001b[38;5;241m1\u001b[39m:\u001b[38;5;124m'\u001b[39m\u001b[38;5;124my\u001b[39m\u001b[38;5;124m'\u001b[39m, \u001b[38;5;241m2\u001b[39m:\u001b[38;5;124m'\u001b[39m\u001b[38;5;124mz\u001b[39m\u001b[38;5;124m'\u001b[39m, \u001b[38;5;241m3\u001b[39m:\u001b[38;5;124m'\u001b[39m\u001b[38;5;124mlat\u001b[39m\u001b[38;5;124m'\u001b[39m, \u001b[38;5;241m4\u001b[39m:\u001b[38;5;124m'\u001b[39m\u001b[38;5;124mlong\u001b[39m\u001b[38;5;124m'\u001b[39m, \u001b[38;5;241m5\u001b[39m:\u001b[38;5;124m'\u001b[39m\u001b[38;5;124mcolor\u001b[39m\u001b[38;5;124m'\u001b[39m}, inplace\u001b[38;5;241m=\u001b[39m\u001b[38;5;28;01mTrue\u001b[39;00m)\n\u001b[0;32m     11\u001b[0m px\u001b[38;5;241m.\u001b[39mscatter_3d(data_frame\u001b[38;5;241m=\u001b[39mpd\u001b[38;5;241m.\u001b[39mDataFrame(spots), \n\u001b[0;32m     12\u001b[0m               x\u001b[38;5;241m=\u001b[39m\u001b[38;5;124m'\u001b[39m\u001b[38;5;124mx\u001b[39m\u001b[38;5;124m'\u001b[39m, y\u001b[38;5;241m=\u001b[39m\u001b[38;5;124m'\u001b[39m\u001b[38;5;124my\u001b[39m\u001b[38;5;124m'\u001b[39m, z\u001b[38;5;241m=\u001b[39m\u001b[38;5;124m'\u001b[39m\u001b[38;5;124mz\u001b[39m\u001b[38;5;124m'\u001b[39m, hover_data\u001b[38;5;241m=\u001b[39m[\u001b[38;5;124m'\u001b[39m\u001b[38;5;124mlat\u001b[39m\u001b[38;5;124m'\u001b[39m,\u001b[38;5;124m'\u001b[39m\u001b[38;5;124mlong\u001b[39m\u001b[38;5;124m'\u001b[39m],\n\u001b[0;32m     13\u001b[0m               opacity\u001b[38;5;241m=\u001b[39m\u001b[38;5;241m0.05\u001b[39m)\n\u001b[1;32m---> 15\u001b[0m \u001b[43mpx\u001b[49m\u001b[38;5;241;43m.\u001b[39;49m\u001b[43mplot3\u001b[49m(deg_to_3space(prospero), \u001b[38;5;124m'\u001b[39m\u001b[38;5;124mred\u001b[39m\u001b[38;5;124m'\u001b[39m) \n\u001b[0;32m     16\u001b[0m px\u001b[38;5;241m.\u001b[39mplot3(deg_to_3space(shepherds), \u001b[38;5;124m'\u001b[39m\u001b[38;5;124mgreen\u001b[39m\u001b[38;5;124m'\u001b[39m)\n",
      "\u001b[1;31mAttributeError\u001b[0m: module 'plotly.express' has no attribute 'plot3'"
     ]
    }
   ],
   "source": [
    "import pandas as pd \n",
    "import plotly.express as px \n",
    "\n",
    "spots = []\n",
    "for i in range(0,360):\n",
    "    for j in range(-80,80,10):\n",
    "        spots.append( list(deg_to_3space( (j,i) ))+[j,i,'blue'] )\n",
    "spots = pd.DataFrame(spots)\n",
    "spots.rename(columns={0:'x',1:'y', 2:'z', 3:'lat', 4:'long', 5:'color'}, inplace=True)\n",
    "\n",
    "f = px.scatter_3d(data_frame=pd.DataFrame(spots), \n",
    "                  x='x', y='y', z='z', hover_data=['lat','long'],\n",
    "                  opacity=0.05)\n",
    "\n",
    "px.plot3(deg_to_3space(prospero), 'red') \n",
    "px.plot3(deg_to_3space(shepherds), 'green') "
   ]
  },
  {
   "cell_type": "code",
   "execution_count": 90,
   "id": "247bdd61",
   "metadata": {
    "ExecuteTime": {
     "end_time": "2022-05-08T16:44:13.960908Z",
     "start_time": "2022-05-08T16:44:13.775780Z"
    },
    "hidden": true
   },
   "outputs": [
    {
     "ename": "ValueError",
     "evalue": "If using all scalar values, you must pass an index",
     "output_type": "error",
     "traceback": [
      "\u001b[1;31m---------------------------------------------------------------------------\u001b[0m",
      "\u001b[1;31mValueError\u001b[0m                                Traceback (most recent call last)",
      "Input \u001b[1;32mIn [90]\u001b[0m, in \u001b[0;36m<cell line: 4>\u001b[1;34m()\u001b[0m\n\u001b[0;32m      1\u001b[0m pro3sp \u001b[38;5;241m=\u001b[39m deg_to_3space(prospero)\n\u001b[0;32m      2\u001b[0m old3sp \u001b[38;5;241m=\u001b[39m deg_to_3space(shepherds)\n\u001b[0;32m      4\u001b[0m pd\u001b[38;5;241m.\u001b[39mconcat([spots, \n\u001b[1;32m----> 5\u001b[0m           \u001b[43mpd\u001b[49m\u001b[38;5;241;43m.\u001b[39;49m\u001b[43mDataFrame\u001b[49m\u001b[43m(\u001b[49m\u001b[43m{\u001b[49m\u001b[38;5;124;43m'\u001b[39;49m\u001b[38;5;124;43mx\u001b[39;49m\u001b[38;5;124;43m'\u001b[39;49m\u001b[43m:\u001b[49m\u001b[43m \u001b[49m\u001b[43mpro3sp\u001b[49m\u001b[43m[\u001b[49m\u001b[38;5;241;43m0\u001b[39;49m\u001b[43m]\u001b[49m\u001b[43m,\u001b[49m\n\u001b[0;32m      6\u001b[0m \u001b[43m           \u001b[49m\u001b[38;5;124;43m'\u001b[39;49m\u001b[38;5;124;43my\u001b[39;49m\u001b[38;5;124;43m'\u001b[39;49m\u001b[43m:\u001b[49m\u001b[43m \u001b[49m\u001b[43mpro3sp\u001b[49m\u001b[43m[\u001b[49m\u001b[38;5;241;43m1\u001b[39;49m\u001b[43m]\u001b[49m\u001b[43m,\u001b[49m\u001b[43m \u001b[49m\n\u001b[0;32m      7\u001b[0m \u001b[43m           \u001b[49m\u001b[38;5;124;43m'\u001b[39;49m\u001b[38;5;124;43mz\u001b[39;49m\u001b[38;5;124;43m'\u001b[39;49m\u001b[43m:\u001b[49m\u001b[43m \u001b[49m\u001b[43mpro3sp\u001b[49m\u001b[43m[\u001b[49m\u001b[38;5;241;43m2\u001b[39;49m\u001b[43m]\u001b[49m\u001b[43m,\u001b[49m\u001b[43m \u001b[49m\n\u001b[0;32m      8\u001b[0m \u001b[43m           \u001b[49m\u001b[38;5;124;43m'\u001b[39;49m\u001b[38;5;124;43mlat\u001b[39;49m\u001b[38;5;124;43m'\u001b[39;49m\u001b[43m:\u001b[49m\u001b[43m \u001b[49m\u001b[43mprospero\u001b[49m\u001b[43m[\u001b[49m\u001b[38;5;241;43m0\u001b[39;49m\u001b[43m]\u001b[49m\u001b[43m,\u001b[49m\u001b[43m \u001b[49m\n\u001b[0;32m      9\u001b[0m \u001b[43m           \u001b[49m\u001b[38;5;124;43m'\u001b[39;49m\u001b[38;5;124;43mlong\u001b[39;49m\u001b[38;5;124;43m'\u001b[39;49m\u001b[43m:\u001b[49m\u001b[43m \u001b[49m\u001b[43mprospero\u001b[49m\u001b[43m[\u001b[49m\u001b[38;5;241;43m1\u001b[39;49m\u001b[43m]\u001b[49m\u001b[43m,\u001b[49m\u001b[43m \u001b[49m\n\u001b[0;32m     10\u001b[0m \u001b[43m           \u001b[49m\u001b[38;5;124;43m'\u001b[39;49m\u001b[38;5;124;43mcolor\u001b[39;49m\u001b[38;5;124;43m'\u001b[39;49m\u001b[43m:\u001b[49m\u001b[43m \u001b[49m\u001b[38;5;124;43m'\u001b[39;49m\u001b[38;5;124;43mred\u001b[39;49m\u001b[38;5;124;43m'\u001b[39;49m\u001b[43m}\u001b[49m\u001b[43m)\u001b[49m,\n\u001b[0;32m     11\u001b[0m           pd\u001b[38;5;241m.\u001b[39mDataFrame({\u001b[38;5;124m'\u001b[39m\u001b[38;5;124mx\u001b[39m\u001b[38;5;124m'\u001b[39m: old3sp[\u001b[38;5;241m0\u001b[39m],\n\u001b[0;32m     12\u001b[0m               \u001b[38;5;124m'\u001b[39m\u001b[38;5;124my\u001b[39m\u001b[38;5;124m'\u001b[39m: old3sp[\u001b[38;5;241m1\u001b[39m], \n\u001b[0;32m     13\u001b[0m               \u001b[38;5;124m'\u001b[39m\u001b[38;5;124mz\u001b[39m\u001b[38;5;124m'\u001b[39m: old3sp[\u001b[38;5;241m2\u001b[39m], \n\u001b[0;32m     14\u001b[0m               \u001b[38;5;124m'\u001b[39m\u001b[38;5;124mlat\u001b[39m\u001b[38;5;124m'\u001b[39m: shepherds[\u001b[38;5;241m0\u001b[39m], \n\u001b[0;32m     15\u001b[0m               \u001b[38;5;124m'\u001b[39m\u001b[38;5;124mlong\u001b[39m\u001b[38;5;124m'\u001b[39m: shepherds[\u001b[38;5;241m1\u001b[39m], \n\u001b[0;32m     16\u001b[0m               \u001b[38;5;124m'\u001b[39m\u001b[38;5;124mcolor\u001b[39m\u001b[38;5;124m'\u001b[39m: \u001b[38;5;124m'\u001b[39m\u001b[38;5;124mmagenta\u001b[39m\u001b[38;5;124m'\u001b[39m})\n\u001b[0;32m     17\u001b[0m           ], ignore_index\u001b[38;5;241m=\u001b[39m\u001b[38;5;28;01mTrue\u001b[39;00m)\n",
      "File \u001b[1;32m~\\anaconda3\\lib\\site-packages\\pandas\\core\\frame.py:636\u001b[0m, in \u001b[0;36mDataFrame.__init__\u001b[1;34m(self, data, index, columns, dtype, copy)\u001b[0m\n\u001b[0;32m    630\u001b[0m     mgr \u001b[38;5;241m=\u001b[39m \u001b[38;5;28mself\u001b[39m\u001b[38;5;241m.\u001b[39m_init_mgr(\n\u001b[0;32m    631\u001b[0m         data, axes\u001b[38;5;241m=\u001b[39m{\u001b[38;5;124m\"\u001b[39m\u001b[38;5;124mindex\u001b[39m\u001b[38;5;124m\"\u001b[39m: index, \u001b[38;5;124m\"\u001b[39m\u001b[38;5;124mcolumns\u001b[39m\u001b[38;5;124m\"\u001b[39m: columns}, dtype\u001b[38;5;241m=\u001b[39mdtype, copy\u001b[38;5;241m=\u001b[39mcopy\n\u001b[0;32m    632\u001b[0m     )\n\u001b[0;32m    634\u001b[0m \u001b[38;5;28;01melif\u001b[39;00m \u001b[38;5;28misinstance\u001b[39m(data, \u001b[38;5;28mdict\u001b[39m):\n\u001b[0;32m    635\u001b[0m     \u001b[38;5;66;03m# GH#38939 de facto copy defaults to False only in non-dict cases\u001b[39;00m\n\u001b[1;32m--> 636\u001b[0m     mgr \u001b[38;5;241m=\u001b[39m \u001b[43mdict_to_mgr\u001b[49m\u001b[43m(\u001b[49m\u001b[43mdata\u001b[49m\u001b[43m,\u001b[49m\u001b[43m \u001b[49m\u001b[43mindex\u001b[49m\u001b[43m,\u001b[49m\u001b[43m \u001b[49m\u001b[43mcolumns\u001b[49m\u001b[43m,\u001b[49m\u001b[43m \u001b[49m\u001b[43mdtype\u001b[49m\u001b[38;5;241;43m=\u001b[39;49m\u001b[43mdtype\u001b[49m\u001b[43m,\u001b[49m\u001b[43m \u001b[49m\u001b[43mcopy\u001b[49m\u001b[38;5;241;43m=\u001b[39;49m\u001b[43mcopy\u001b[49m\u001b[43m,\u001b[49m\u001b[43m \u001b[49m\u001b[43mtyp\u001b[49m\u001b[38;5;241;43m=\u001b[39;49m\u001b[43mmanager\u001b[49m\u001b[43m)\u001b[49m\n\u001b[0;32m    637\u001b[0m \u001b[38;5;28;01melif\u001b[39;00m \u001b[38;5;28misinstance\u001b[39m(data, ma\u001b[38;5;241m.\u001b[39mMaskedArray):\n\u001b[0;32m    638\u001b[0m     \u001b[38;5;28;01mimport\u001b[39;00m \u001b[38;5;21;01mnumpy\u001b[39;00m\u001b[38;5;21;01m.\u001b[39;00m\u001b[38;5;21;01mma\u001b[39;00m\u001b[38;5;21;01m.\u001b[39;00m\u001b[38;5;21;01mmrecords\u001b[39;00m \u001b[38;5;28;01mas\u001b[39;00m \u001b[38;5;21;01mmrecords\u001b[39;00m\n",
      "File \u001b[1;32m~\\anaconda3\\lib\\site-packages\\pandas\\core\\internals\\construction.py:502\u001b[0m, in \u001b[0;36mdict_to_mgr\u001b[1;34m(data, index, columns, dtype, typ, copy)\u001b[0m\n\u001b[0;32m    494\u001b[0m     arrays \u001b[38;5;241m=\u001b[39m [\n\u001b[0;32m    495\u001b[0m         x\n\u001b[0;32m    496\u001b[0m         \u001b[38;5;28;01mif\u001b[39;00m \u001b[38;5;129;01mnot\u001b[39;00m \u001b[38;5;28mhasattr\u001b[39m(x, \u001b[38;5;124m\"\u001b[39m\u001b[38;5;124mdtype\u001b[39m\u001b[38;5;124m\"\u001b[39m) \u001b[38;5;129;01mor\u001b[39;00m \u001b[38;5;129;01mnot\u001b[39;00m \u001b[38;5;28misinstance\u001b[39m(x\u001b[38;5;241m.\u001b[39mdtype, ExtensionDtype)\n\u001b[0;32m    497\u001b[0m         \u001b[38;5;28;01melse\u001b[39;00m x\u001b[38;5;241m.\u001b[39mcopy()\n\u001b[0;32m    498\u001b[0m         \u001b[38;5;28;01mfor\u001b[39;00m x \u001b[38;5;129;01min\u001b[39;00m arrays\n\u001b[0;32m    499\u001b[0m     ]\n\u001b[0;32m    500\u001b[0m     \u001b[38;5;66;03m# TODO: can we get rid of the dt64tz special case above?\u001b[39;00m\n\u001b[1;32m--> 502\u001b[0m \u001b[38;5;28;01mreturn\u001b[39;00m \u001b[43marrays_to_mgr\u001b[49m\u001b[43m(\u001b[49m\u001b[43marrays\u001b[49m\u001b[43m,\u001b[49m\u001b[43m \u001b[49m\u001b[43mcolumns\u001b[49m\u001b[43m,\u001b[49m\u001b[43m \u001b[49m\u001b[43mindex\u001b[49m\u001b[43m,\u001b[49m\u001b[43m \u001b[49m\u001b[43mdtype\u001b[49m\u001b[38;5;241;43m=\u001b[39;49m\u001b[43mdtype\u001b[49m\u001b[43m,\u001b[49m\u001b[43m \u001b[49m\u001b[43mtyp\u001b[49m\u001b[38;5;241;43m=\u001b[39;49m\u001b[43mtyp\u001b[49m\u001b[43m,\u001b[49m\u001b[43m \u001b[49m\u001b[43mconsolidate\u001b[49m\u001b[38;5;241;43m=\u001b[39;49m\u001b[43mcopy\u001b[49m\u001b[43m)\u001b[49m\n",
      "File \u001b[1;32m~\\anaconda3\\lib\\site-packages\\pandas\\core\\internals\\construction.py:120\u001b[0m, in \u001b[0;36marrays_to_mgr\u001b[1;34m(arrays, columns, index, dtype, verify_integrity, typ, consolidate)\u001b[0m\n\u001b[0;32m    117\u001b[0m \u001b[38;5;28;01mif\u001b[39;00m verify_integrity:\n\u001b[0;32m    118\u001b[0m     \u001b[38;5;66;03m# figure out the index, if necessary\u001b[39;00m\n\u001b[0;32m    119\u001b[0m     \u001b[38;5;28;01mif\u001b[39;00m index \u001b[38;5;129;01mis\u001b[39;00m \u001b[38;5;28;01mNone\u001b[39;00m:\n\u001b[1;32m--> 120\u001b[0m         index \u001b[38;5;241m=\u001b[39m \u001b[43m_extract_index\u001b[49m\u001b[43m(\u001b[49m\u001b[43marrays\u001b[49m\u001b[43m)\u001b[49m\n\u001b[0;32m    121\u001b[0m     \u001b[38;5;28;01melse\u001b[39;00m:\n\u001b[0;32m    122\u001b[0m         index \u001b[38;5;241m=\u001b[39m ensure_index(index)\n",
      "File \u001b[1;32m~\\anaconda3\\lib\\site-packages\\pandas\\core\\internals\\construction.py:664\u001b[0m, in \u001b[0;36m_extract_index\u001b[1;34m(data)\u001b[0m\n\u001b[0;32m    661\u001b[0m         \u001b[38;5;28;01mraise\u001b[39;00m \u001b[38;5;167;01mValueError\u001b[39;00m(\u001b[38;5;124m\"\u001b[39m\u001b[38;5;124mPer-column arrays must each be 1-dimensional\u001b[39m\u001b[38;5;124m\"\u001b[39m)\n\u001b[0;32m    663\u001b[0m \u001b[38;5;28;01mif\u001b[39;00m \u001b[38;5;129;01mnot\u001b[39;00m indexes \u001b[38;5;129;01mand\u001b[39;00m \u001b[38;5;129;01mnot\u001b[39;00m raw_lengths:\n\u001b[1;32m--> 664\u001b[0m     \u001b[38;5;28;01mraise\u001b[39;00m \u001b[38;5;167;01mValueError\u001b[39;00m(\u001b[38;5;124m\"\u001b[39m\u001b[38;5;124mIf using all scalar values, you must pass an index\u001b[39m\u001b[38;5;124m\"\u001b[39m)\n\u001b[0;32m    666\u001b[0m \u001b[38;5;28;01melif\u001b[39;00m have_series:\n\u001b[0;32m    667\u001b[0m     index \u001b[38;5;241m=\u001b[39m union_indexes(indexes)\n",
      "\u001b[1;31mValueError\u001b[0m: If using all scalar values, you must pass an index"
     ]
    }
   ],
   "source": [
    "pro3sp = deg_to_3space(prospero)\n",
    "old3sp = deg_to_3space(shepherds)\n",
    "\n",
    "pd.concat([spots, \n",
    "          pd.DataFrame({'x': pro3sp[0],\n",
    "           'y': pro3sp[1], \n",
    "           'z': pro3sp[2], \n",
    "           'lat': prospero[0], \n",
    "           'long': prospero[1], \n",
    "           'color': 'red'}),\n",
    "          pd.DataFrame({'x': old3sp[0],\n",
    "              'y': old3sp[1], \n",
    "              'z': old3sp[2], \n",
    "              'lat': shepherds[0], \n",
    "              'long': shepherds[1], \n",
    "              'color': 'magenta'})\n",
    "          ], ignore_index=True)\n",
    "\n",
    "### well that's blood annoying"
   ]
  },
  {
   "cell_type": "code",
   "execution_count": 1,
   "id": "314edfd8",
   "metadata": {
    "ExecuteTime": {
     "end_time": "2022-05-02T18:17:28.479205Z",
     "start_time": "2022-05-02T18:17:28.249133Z"
    },
    "hidden": true
   },
   "outputs": [],
   "source": [
    "def from_home_in_3space(dest:tuple, home:tuple, step=2) -> tuple:\n",
    "    assert len(home) == 2, \"home should be deg lat,long\"\n",
    "    assert len(dest) == 2, \"dest should be deg lat,long\"\n",
    "\n",
    "    ## prep translation\n",
    "    direction = deg_to_3space(dest)-deg_to_3space(home)\n",
    "    x,y,z = direction\n",
    "\n",
    "    ## prep rotation (in rads)\n",
    "    latRad = -home[0]*np.pi/180 \n",
    "    longRad = -home[1]*np.pi/180\n",
    "    \n",
    "    ## rotation for long, preserving lat\n",
    "    newX = x*np.cos(longRad)-y*np.sin(longRad)\n",
    "    newY = x*np.sin(longRad)+y*np.cos(longRad)\n",
    "    newZ = z\n",
    "\n",
    "    if step==1:\n",
    "        return (newX, newY, newZ)\n",
    "    \n",
    "    ## rotation for lat\n",
    "    lastX =  newX*np.cos(latRad) + newZ*np.sin(latRad)\n",
    "    lastY =  newY\n",
    "    lastZ = -newX*np.sin(latRad) + newZ*np.cos(latRad)\n",
    "\n",
    "    ## axes are transformed assuming a baseline of lat0,long0: \n",
    "    # so, x becomes up, y becomes east, z becomes north\n",
    "    u = lastX\n",
    "    e = lastY\n",
    "    n = lastZ\n",
    "    \n",
    "    ## convert to compass directions and angle down?\n",
    "    dist = (u**2+e**2+n**2)**0.5\n",
    "    compass = np.arctan(e/(n+1e-23))*180/np.pi\n",
    "    pitch = np.arcsin(u/dist)*180/np.pi\n",
    "    \n",
    "    return np.array( (newX, newY, newZ) )\n",
    "#     return np.array( (lastX, lastY, lastZ) )\n",
    "#     return np.array( (n,e,u) )\n",
    "#     return (compass, pitch)"
   ]
  },
  {
   "cell_type": "code",
   "execution_count": 3,
   "id": "59ad10d9",
   "metadata": {
    "ExecuteTime": {
     "end_time": "2022-05-02T18:17:29.241285Z",
     "start_time": "2022-05-02T18:17:29.220288Z"
    },
    "hidden": true
   },
   "outputs": [
    {
     "name": "stdout",
     "output_type": "stream",
     "text": [
      "[6.123234e-17 1.000000e+00 0.000000e+00]\n",
      "[1. 0. 0.]\n",
      "[-1.  1.  0.]\n"
     ]
    }
   ],
   "source": [
    "print(deg_to_3space( (0,90) ))\n",
    "print(deg_to_3space( (0,0) ))\n",
    "print(deg_to_3space( (0,90) )-deg_to_3space( (0,0) ))"
   ]
  },
  {
   "cell_type": "code",
   "execution_count": 4,
   "id": "bee91a4e",
   "metadata": {
    "ExecuteTime": {
     "end_time": "2022-05-02T18:17:29.707006Z",
     "start_time": "2022-05-02T18:17:29.685005Z"
    },
    "hidden": true
   },
   "outputs": [
    {
     "data": {
      "text/plain": [
       "array([-1.,  1.,  0.])"
      ]
     },
     "execution_count": 4,
     "metadata": {},
     "output_type": "execute_result"
    }
   ],
   "source": [
    "## no rotation, so should be -1,1,0? \n",
    "# hrm, wait, (1 e, 0 n, -1 u)? \n",
    "# maybe my outputs are correct but mislabelled: actually up, east, north\n",
    "from_home_in_3space( (0,90),(0,0) )"
   ]
  },
  {
   "cell_type": "code",
   "execution_count": 5,
   "id": "9c597a98",
   "metadata": {
    "ExecuteTime": {
     "end_time": "2022-05-02T18:17:30.186926Z",
     "start_time": "2022-05-02T18:17:30.164922Z"
    },
    "hidden": true
   },
   "outputs": [
    {
     "name": "stdout",
     "output_type": "stream",
     "text": [
      "[-1.  0.  1.]\n"
     ]
    },
    {
     "data": {
      "text/plain": [
       "array([-1.,  0.,  1.])"
      ]
     },
     "execution_count": 5,
     "metadata": {},
     "output_type": "execute_result"
    }
   ],
   "source": [
    "print(deg_to_3space( (90,0) )-deg_to_3space( (0,0) ))\n",
    "\n",
    "from_home_in_3space( (90,0),(0,0) )"
   ]
  },
  {
   "cell_type": "code",
   "execution_count": 6,
   "id": "669ffc9e",
   "metadata": {
    "ExecuteTime": {
     "end_time": "2022-05-02T18:17:31.009287Z",
     "start_time": "2022-05-02T18:17:30.989286Z"
    },
    "hidden": true
   },
   "outputs": [
    {
     "data": {
      "text/plain": [
       "array([-0.22560905,  0.54771412,  0.00722309])"
      ]
     },
     "execution_count": 6,
     "metadata": {},
     "output_type": "execute_result"
    }
   ],
   "source": [
    "from_home_in_3space(currently,shepherds)"
   ]
  },
  {
   "cell_type": "code",
   "execution_count": 7,
   "id": "1bc116a5",
   "metadata": {
    "ExecuteTime": {
     "end_time": "2022-05-02T18:17:31.888494Z",
     "start_time": "2022-05-02T18:17:31.877492Z"
    },
    "hidden": true
   },
   "outputs": [
    {
     "data": {
      "text/plain": [
       "array([ 0.03184286, -0.05251441, -0.04119624])"
      ]
     },
     "execution_count": 7,
     "metadata": {},
     "output_type": "execute_result"
    }
   ],
   "source": [
    "from_home_in_3space(currently,nyc)\n",
    "### welp... that's not right"
   ]
  },
  {
   "cell_type": "code",
   "execution_count": 8,
   "id": "8b80c081",
   "metadata": {
    "ExecuteTime": {
     "end_time": "2022-05-02T18:17:32.744303Z",
     "start_time": "2022-05-02T18:17:32.732293Z"
    },
    "hidden": true
   },
   "outputs": [
    {
     "data": {
      "text/plain": [
       "array([ 0.03546105,  0.13497571, -0.05652674])"
      ]
     },
     "execution_count": 8,
     "metadata": {},
     "output_type": "execute_result"
    }
   ],
   "source": [
    "from_home_in_3space(currently,chicago)"
   ]
  },
  {
   "cell_type": "code",
   "execution_count": 9,
   "id": "1e9a9907",
   "metadata": {
    "ExecuteTime": {
     "end_time": "2022-05-02T18:17:33.272341Z",
     "start_time": "2022-05-02T18:17:33.253283Z"
    },
    "hidden": true
   },
   "outputs": [
    {
     "data": {
      "text/plain": [
       "array([-0.8857373 , -0.75139733, -0.15999798])"
      ]
     },
     "execution_count": 9,
     "metadata": {},
     "output_type": "execute_result"
    }
   ],
   "source": [
    "from_home_in_3space(currently,kyiv)"
   ]
  },
  {
   "cell_type": "code",
   "execution_count": 10,
   "id": "9f33894b",
   "metadata": {
    "ExecuteTime": {
     "end_time": "2022-05-02T18:17:35.158454Z",
     "start_time": "2022-05-02T18:17:33.740284Z"
    },
    "hidden": true
   },
   "outputs": [],
   "source": [
    "import pandas as pd\n",
    "import plotly.express as px"
   ]
  },
  {
   "cell_type": "code",
   "execution_count": null,
   "id": "59ca39d4",
   "metadata": {
    "ExecuteTime": {
     "end_time": "2022-05-02T18:20:47.850374Z",
     "start_time": "2022-05-02T18:20:42.217376Z"
    },
    "hidden": true
   },
   "outputs": [],
   "source": [
    "spots = []\n",
    "for i in range(0,360):\n",
    "    for j in range(-90,90):\n",
    "        spots.append( from_home_in_3space( currently, (j,i) ) )\n",
    "spots = pd.DataFrame(spots)\n",
    "spots.rename(columns={0:'x',1:'y', 2:'z'}, inplace=True)\n",
    "px.scatter_3d(data_frame=pd.DataFrame(spots), x='x', y='y', z='z', opacity=0.05)\n",
    "\n",
    "### well, that looks wrong"
   ]
  },
  {
   "cell_type": "code",
   "execution_count": null,
   "id": "fc6d925b",
   "metadata": {
    "ExecuteTime": {
     "end_time": "2022-05-02T18:17:45.803809Z",
     "start_time": "2022-05-02T18:17:42.796807Z"
    },
    "hidden": true
   },
   "outputs": [],
   "source": [
    "## so let's try the basic transform...\n",
    "spots = []\n",
    "for i in range(0,360):\n",
    "    for j in range(-90,90):\n",
    "        spots.append( deg_to_3space( (j,i) ) )\n",
    "spots = pd.DataFrame(spots)\n",
    "spots.rename(columns={0:'x',1:'y', 2:'z'}, inplace=True)\n",
    "spots['size']=0.1\n",
    "px.scatter_3d(data_frame=spots, x='x', y='y', z='z', size='size', opacity=0.5)\n",
    "\n",
    "### option one: rotate first, then subtract known coordinate"
   ]
  },
  {
   "cell_type": "code",
   "execution_count": null,
   "id": "f06fc4d6",
   "metadata": {
    "ExecuteTime": {
     "end_time": "2022-05-02T18:17:47.784816Z",
     "start_time": "2022-05-02T18:17:45.806808Z"
    },
    "hidden": true
   },
   "outputs": [],
   "source": [
    "## and go step by step...\n",
    "home = deg_to_3space(currently)\n",
    "spots['newx'] = spots['x'] - home[0]\n",
    "spots['newy'] = spots['y'] - home[1]\n",
    "spots['newz'] = spots['z'] - home[2]\n",
    "px.scatter_3d(home)\n",
    "px.scatter_3d(data_frame=spots, x='newx', y='newy', z='newz', size='size', opacity=0.5)\n",
    "\n",
    "### option two: subtract first, rotate everything around origin"
   ]
  },
  {
   "cell_type": "code",
   "execution_count": null,
   "id": "348fc26b",
   "metadata": {
    "hidden": true
   },
   "outputs": [],
   "source": []
  },
  {
   "cell_type": "code",
   "execution_count": null,
   "id": "eb1ad785",
   "metadata": {
    "ExecuteTime": {
     "end_time": "2022-02-22T01:07:51.901411Z",
     "start_time": "2022-02-22T01:07:51.892409Z"
    },
    "hidden": true
   },
   "outputs": [],
   "source": []
  },
  {
   "cell_type": "code",
   "execution_count": null,
   "id": "5afb788e",
   "metadata": {
    "ExecuteTime": {
     "end_time": "2022-02-27T21:59:52.560774Z",
     "start_time": "2022-02-27T21:59:52.524773Z"
    },
    "hidden": true
   },
   "outputs": [],
   "source": []
  },
  {
   "cell_type": "code",
   "execution_count": null,
   "id": "56d38c19",
   "metadata": {
    "hidden": true
   },
   "outputs": [],
   "source": []
  },
  {
   "cell_type": "code",
   "execution_count": null,
   "id": "f86f35aa",
   "metadata": {
    "hidden": true
   },
   "outputs": [],
   "source": []
  }
 ],
 "metadata": {
  "kernelspec": {
   "display_name": "Python 3 (ipykernel)",
   "language": "python",
   "name": "python3"
  },
  "language_info": {
   "codemirror_mode": {
    "name": "ipython",
    "version": 3
   },
   "file_extension": ".py",
   "mimetype": "text/x-python",
   "name": "python",
   "nbconvert_exporter": "python",
   "pygments_lexer": "ipython3",
   "version": "3.11.5"
  }
 },
 "nbformat": 4,
 "nbformat_minor": 5
}
